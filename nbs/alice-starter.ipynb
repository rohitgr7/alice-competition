{
 "cells": [
  {
   "cell_type": "code",
   "execution_count": 1,
   "metadata": {
    "_cell_guid": "b1076dfc-b9ad-4769-8c92-a6c4dae69d19",
    "_uuid": "8f2839f25d086af736a60e9eeb907d3b93b6e0e5"
   },
   "outputs": [],
   "source": [
    "%matplotlib inline\n",
    "\n",
    "from collections import Counter\n",
    "import gc\n",
    "import re\n",
    "from pathlib import Path\n",
    "from scipy.sparse import csr_matrix, hstack\n",
    "import numpy as np\n",
    "import pandas as pd\n",
    "pd.set_option('display.max_columns', 100)\n",
    "\n",
    "import matplotlib.pyplot as plt\n",
    "import seaborn as sns\n",
    "sns.set(palette='muted')\n",
    "\n",
    "from sklearn.feature_extraction.text import CountVectorizer, TfidfVectorizer\n",
    "from sklearn.linear_model import LogisticRegression\n",
    "from sklearn.metrics import accuracy_score\n",
    "from sklearn.preprocessing import StandardScaler\n",
    "from sklearn.model_selection import TimeSeriesSplit, GridSearchCV, StratifiedKFold, KFold, cross_val_score\n",
    "\n",
    "import warnings\n",
    "warnings.simplefilter('ignore', category=UserWarning)\n",
    "warnings.simplefilter('ignore', category=FutureWarning)"
   ]
  },
  {
   "cell_type": "code",
   "execution_count": 2,
   "metadata": {
    "_cell_guid": "79c7e3d0-c299-4dcb-8224-4455121ee9b0",
    "_uuid": "d629ff2d2480ee46fbb7e2d37f6b5fab8052498a"
   },
   "outputs": [
    {
     "data": {
      "text/plain": [
       "['train_sessions.csv',\n",
       " 'site_dic.pkl',\n",
       " 'sample_submission.csv',\n",
       " 'train.zip',\n",
       " 'test_sessions.csv']"
      ]
     },
     "execution_count": 2,
     "metadata": {},
     "output_type": "execute_result"
    }
   ],
   "source": [
    "PATH = Path('../input')\n",
    "[f.name for f in PATH.iterdir()]"
   ]
  },
  {
   "cell_type": "code",
   "execution_count": 3,
   "metadata": {
    "_uuid": "b71b89eb999cd8b0cccf992ddcf2f07a35502565"
   },
   "outputs": [],
   "source": [
    "sites = [f'site{i}' for i in range(1, 11)]\n",
    "times = [f'time{i}' for i in range(1, 11)]"
   ]
  },
  {
   "cell_type": "code",
   "execution_count": 4,
   "metadata": {
    "_uuid": "a6e8a3040c847ec88610b962fd17bdcab408ed69"
   },
   "outputs": [
    {
     "name": "stdout",
     "output_type": "stream",
     "text": [
      "(253561, 22)\n"
     ]
    },
    {
     "data": {
      "text/html": [
       "<div>\n",
       "<style scoped>\n",
       "    .dataframe tbody tr th:only-of-type {\n",
       "        vertical-align: middle;\n",
       "    }\n",
       "\n",
       "    .dataframe tbody tr th {\n",
       "        vertical-align: top;\n",
       "    }\n",
       "\n",
       "    .dataframe thead th {\n",
       "        text-align: right;\n",
       "    }\n",
       "</style>\n",
       "<table border=\"1\" class=\"dataframe\">\n",
       "  <thead>\n",
       "    <tr style=\"text-align: right;\">\n",
       "      <th></th>\n",
       "      <th>session_id</th>\n",
       "      <th>site1</th>\n",
       "      <th>time1</th>\n",
       "      <th>site2</th>\n",
       "      <th>time2</th>\n",
       "      <th>site3</th>\n",
       "      <th>time3</th>\n",
       "      <th>site4</th>\n",
       "      <th>time4</th>\n",
       "      <th>site5</th>\n",
       "      <th>time5</th>\n",
       "      <th>site6</th>\n",
       "      <th>time6</th>\n",
       "      <th>site7</th>\n",
       "      <th>time7</th>\n",
       "      <th>site8</th>\n",
       "      <th>time8</th>\n",
       "      <th>site9</th>\n",
       "      <th>time9</th>\n",
       "      <th>site10</th>\n",
       "      <th>time10</th>\n",
       "      <th>target</th>\n",
       "    </tr>\n",
       "  </thead>\n",
       "  <tbody>\n",
       "    <tr>\n",
       "      <th>0</th>\n",
       "      <td>1</td>\n",
       "      <td>718</td>\n",
       "      <td>2014-02-20 10:02:45</td>\n",
       "      <td>NaN</td>\n",
       "      <td>NaT</td>\n",
       "      <td>NaN</td>\n",
       "      <td>NaT</td>\n",
       "      <td>NaN</td>\n",
       "      <td>NaT</td>\n",
       "      <td>NaN</td>\n",
       "      <td>NaT</td>\n",
       "      <td>NaN</td>\n",
       "      <td>NaT</td>\n",
       "      <td>NaN</td>\n",
       "      <td>NaT</td>\n",
       "      <td>NaN</td>\n",
       "      <td>NaT</td>\n",
       "      <td>NaN</td>\n",
       "      <td>NaT</td>\n",
       "      <td>NaN</td>\n",
       "      <td>NaT</td>\n",
       "      <td>0</td>\n",
       "    </tr>\n",
       "    <tr>\n",
       "      <th>1</th>\n",
       "      <td>2</td>\n",
       "      <td>890</td>\n",
       "      <td>2014-02-22 11:19:50</td>\n",
       "      <td>941.0</td>\n",
       "      <td>2014-02-22 11:19:50</td>\n",
       "      <td>3847.0</td>\n",
       "      <td>2014-02-22 11:19:51</td>\n",
       "      <td>941.0</td>\n",
       "      <td>2014-02-22 11:19:51</td>\n",
       "      <td>942.0</td>\n",
       "      <td>2014-02-22 11:19:51</td>\n",
       "      <td>3846.0</td>\n",
       "      <td>2014-02-22 11:19:51</td>\n",
       "      <td>3847.0</td>\n",
       "      <td>2014-02-22 11:19:52</td>\n",
       "      <td>3846.0</td>\n",
       "      <td>2014-02-22 11:19:52</td>\n",
       "      <td>1516.0</td>\n",
       "      <td>2014-02-22 11:20:15</td>\n",
       "      <td>1518.0</td>\n",
       "      <td>2014-02-22 11:20:16</td>\n",
       "      <td>0</td>\n",
       "    </tr>\n",
       "    <tr>\n",
       "      <th>2</th>\n",
       "      <td>3</td>\n",
       "      <td>14769</td>\n",
       "      <td>2013-12-16 16:40:17</td>\n",
       "      <td>39.0</td>\n",
       "      <td>2013-12-16 16:40:18</td>\n",
       "      <td>14768.0</td>\n",
       "      <td>2013-12-16 16:40:19</td>\n",
       "      <td>14769.0</td>\n",
       "      <td>2013-12-16 16:40:19</td>\n",
       "      <td>37.0</td>\n",
       "      <td>2013-12-16 16:40:19</td>\n",
       "      <td>39.0</td>\n",
       "      <td>2013-12-16 16:40:19</td>\n",
       "      <td>14768.0</td>\n",
       "      <td>2013-12-16 16:40:20</td>\n",
       "      <td>14768.0</td>\n",
       "      <td>2013-12-16 16:40:21</td>\n",
       "      <td>14768.0</td>\n",
       "      <td>2013-12-16 16:40:22</td>\n",
       "      <td>14768.0</td>\n",
       "      <td>2013-12-16 16:40:24</td>\n",
       "      <td>0</td>\n",
       "    </tr>\n",
       "    <tr>\n",
       "      <th>3</th>\n",
       "      <td>4</td>\n",
       "      <td>782</td>\n",
       "      <td>2014-03-28 10:52:12</td>\n",
       "      <td>782.0</td>\n",
       "      <td>2014-03-28 10:52:42</td>\n",
       "      <td>782.0</td>\n",
       "      <td>2014-03-28 10:53:12</td>\n",
       "      <td>782.0</td>\n",
       "      <td>2014-03-28 10:53:42</td>\n",
       "      <td>782.0</td>\n",
       "      <td>2014-03-28 10:54:12</td>\n",
       "      <td>782.0</td>\n",
       "      <td>2014-03-28 10:54:42</td>\n",
       "      <td>782.0</td>\n",
       "      <td>2014-03-28 10:55:12</td>\n",
       "      <td>782.0</td>\n",
       "      <td>2014-03-28 10:55:42</td>\n",
       "      <td>782.0</td>\n",
       "      <td>2014-03-28 10:56:12</td>\n",
       "      <td>782.0</td>\n",
       "      <td>2014-03-28 10:56:42</td>\n",
       "      <td>0</td>\n",
       "    </tr>\n",
       "    <tr>\n",
       "      <th>4</th>\n",
       "      <td>5</td>\n",
       "      <td>22</td>\n",
       "      <td>2014-02-28 10:53:05</td>\n",
       "      <td>177.0</td>\n",
       "      <td>2014-02-28 10:55:22</td>\n",
       "      <td>175.0</td>\n",
       "      <td>2014-02-28 10:55:22</td>\n",
       "      <td>178.0</td>\n",
       "      <td>2014-02-28 10:55:23</td>\n",
       "      <td>177.0</td>\n",
       "      <td>2014-02-28 10:55:23</td>\n",
       "      <td>178.0</td>\n",
       "      <td>2014-02-28 10:55:59</td>\n",
       "      <td>175.0</td>\n",
       "      <td>2014-02-28 10:55:59</td>\n",
       "      <td>177.0</td>\n",
       "      <td>2014-02-28 10:55:59</td>\n",
       "      <td>177.0</td>\n",
       "      <td>2014-02-28 10:57:06</td>\n",
       "      <td>178.0</td>\n",
       "      <td>2014-02-28 10:57:11</td>\n",
       "      <td>0</td>\n",
       "    </tr>\n",
       "  </tbody>\n",
       "</table>\n",
       "</div>"
      ],
      "text/plain": [
       "   session_id  site1               time1  site2               time2    site3  \\\n",
       "0           1    718 2014-02-20 10:02:45    NaN                 NaT      NaN   \n",
       "1           2    890 2014-02-22 11:19:50  941.0 2014-02-22 11:19:50   3847.0   \n",
       "2           3  14769 2013-12-16 16:40:17   39.0 2013-12-16 16:40:18  14768.0   \n",
       "3           4    782 2014-03-28 10:52:12  782.0 2014-03-28 10:52:42    782.0   \n",
       "4           5     22 2014-02-28 10:53:05  177.0 2014-02-28 10:55:22    175.0   \n",
       "\n",
       "                time3    site4               time4  site5               time5  \\\n",
       "0                 NaT      NaN                 NaT    NaN                 NaT   \n",
       "1 2014-02-22 11:19:51    941.0 2014-02-22 11:19:51  942.0 2014-02-22 11:19:51   \n",
       "2 2013-12-16 16:40:19  14769.0 2013-12-16 16:40:19   37.0 2013-12-16 16:40:19   \n",
       "3 2014-03-28 10:53:12    782.0 2014-03-28 10:53:42  782.0 2014-03-28 10:54:12   \n",
       "4 2014-02-28 10:55:22    178.0 2014-02-28 10:55:23  177.0 2014-02-28 10:55:23   \n",
       "\n",
       "    site6               time6    site7               time7    site8  \\\n",
       "0     NaN                 NaT      NaN                 NaT      NaN   \n",
       "1  3846.0 2014-02-22 11:19:51   3847.0 2014-02-22 11:19:52   3846.0   \n",
       "2    39.0 2013-12-16 16:40:19  14768.0 2013-12-16 16:40:20  14768.0   \n",
       "3   782.0 2014-03-28 10:54:42    782.0 2014-03-28 10:55:12    782.0   \n",
       "4   178.0 2014-02-28 10:55:59    175.0 2014-02-28 10:55:59    177.0   \n",
       "\n",
       "                time8    site9               time9   site10  \\\n",
       "0                 NaT      NaN                 NaT      NaN   \n",
       "1 2014-02-22 11:19:52   1516.0 2014-02-22 11:20:15   1518.0   \n",
       "2 2013-12-16 16:40:21  14768.0 2013-12-16 16:40:22  14768.0   \n",
       "3 2014-03-28 10:55:42    782.0 2014-03-28 10:56:12    782.0   \n",
       "4 2014-02-28 10:55:59    177.0 2014-02-28 10:57:06    178.0   \n",
       "\n",
       "               time10  target  \n",
       "0                 NaT       0  \n",
       "1 2014-02-22 11:20:16       0  \n",
       "2 2013-12-16 16:40:24       0  \n",
       "3 2014-03-28 10:56:42       0  \n",
       "4 2014-02-28 10:57:11       0  "
      ]
     },
     "execution_count": 4,
     "metadata": {},
     "output_type": "execute_result"
    }
   ],
   "source": [
    "train_df = pd.read_csv(PATH/'train_sessions.csv', parse_dates=times, nrows=None)\n",
    "print(train_df.shape)\n",
    "train_df.head()"
   ]
  },
  {
   "cell_type": "code",
   "execution_count": 5,
   "metadata": {
    "_uuid": "50e69e87b05ece04da0f212a73512a91f6c23afb",
    "scrolled": true
   },
   "outputs": [
    {
     "name": "stdout",
     "output_type": "stream",
     "text": [
      "(82797, 21)\n"
     ]
    },
    {
     "data": {
      "text/html": [
       "<div>\n",
       "<style scoped>\n",
       "    .dataframe tbody tr th:only-of-type {\n",
       "        vertical-align: middle;\n",
       "    }\n",
       "\n",
       "    .dataframe tbody tr th {\n",
       "        vertical-align: top;\n",
       "    }\n",
       "\n",
       "    .dataframe thead th {\n",
       "        text-align: right;\n",
       "    }\n",
       "</style>\n",
       "<table border=\"1\" class=\"dataframe\">\n",
       "  <thead>\n",
       "    <tr style=\"text-align: right;\">\n",
       "      <th></th>\n",
       "      <th>session_id</th>\n",
       "      <th>site1</th>\n",
       "      <th>time1</th>\n",
       "      <th>site2</th>\n",
       "      <th>time2</th>\n",
       "      <th>site3</th>\n",
       "      <th>time3</th>\n",
       "      <th>site4</th>\n",
       "      <th>time4</th>\n",
       "      <th>site5</th>\n",
       "      <th>time5</th>\n",
       "      <th>site6</th>\n",
       "      <th>time6</th>\n",
       "      <th>site7</th>\n",
       "      <th>time7</th>\n",
       "      <th>site8</th>\n",
       "      <th>time8</th>\n",
       "      <th>site9</th>\n",
       "      <th>time9</th>\n",
       "      <th>site10</th>\n",
       "      <th>time10</th>\n",
       "    </tr>\n",
       "  </thead>\n",
       "  <tbody>\n",
       "    <tr>\n",
       "      <th>0</th>\n",
       "      <td>1</td>\n",
       "      <td>29</td>\n",
       "      <td>2014-10-04 11:19:53</td>\n",
       "      <td>35.0</td>\n",
       "      <td>2014-10-04 11:19:53</td>\n",
       "      <td>22.0</td>\n",
       "      <td>2014-10-04 11:19:54</td>\n",
       "      <td>321.0</td>\n",
       "      <td>2014-10-04 11:19:54</td>\n",
       "      <td>23.0</td>\n",
       "      <td>2014-10-04 11:19:54</td>\n",
       "      <td>2211.0</td>\n",
       "      <td>2014-10-04 11:19:54</td>\n",
       "      <td>6730.0</td>\n",
       "      <td>2014-10-04 11:19:54</td>\n",
       "      <td>21.0</td>\n",
       "      <td>2014-10-04 11:19:54</td>\n",
       "      <td>44582.0</td>\n",
       "      <td>2014-10-04 11:20:00</td>\n",
       "      <td>15336.0</td>\n",
       "      <td>2014-10-04 11:20:00</td>\n",
       "    </tr>\n",
       "    <tr>\n",
       "      <th>1</th>\n",
       "      <td>2</td>\n",
       "      <td>782</td>\n",
       "      <td>2014-07-03 11:00:28</td>\n",
       "      <td>782.0</td>\n",
       "      <td>2014-07-03 11:00:53</td>\n",
       "      <td>782.0</td>\n",
       "      <td>2014-07-03 11:00:58</td>\n",
       "      <td>782.0</td>\n",
       "      <td>2014-07-03 11:01:06</td>\n",
       "      <td>782.0</td>\n",
       "      <td>2014-07-03 11:01:09</td>\n",
       "      <td>782.0</td>\n",
       "      <td>2014-07-03 11:01:10</td>\n",
       "      <td>782.0</td>\n",
       "      <td>2014-07-03 11:01:23</td>\n",
       "      <td>782.0</td>\n",
       "      <td>2014-07-03 11:01:29</td>\n",
       "      <td>782.0</td>\n",
       "      <td>2014-07-03 11:01:30</td>\n",
       "      <td>782.0</td>\n",
       "      <td>2014-07-03 11:01:53</td>\n",
       "    </tr>\n",
       "    <tr>\n",
       "      <th>2</th>\n",
       "      <td>3</td>\n",
       "      <td>55</td>\n",
       "      <td>2014-12-05 15:55:12</td>\n",
       "      <td>55.0</td>\n",
       "      <td>2014-12-05 15:55:13</td>\n",
       "      <td>55.0</td>\n",
       "      <td>2014-12-05 15:55:14</td>\n",
       "      <td>55.0</td>\n",
       "      <td>2014-12-05 15:56:15</td>\n",
       "      <td>55.0</td>\n",
       "      <td>2014-12-05 15:56:16</td>\n",
       "      <td>55.0</td>\n",
       "      <td>2014-12-05 15:56:17</td>\n",
       "      <td>55.0</td>\n",
       "      <td>2014-12-05 15:56:18</td>\n",
       "      <td>55.0</td>\n",
       "      <td>2014-12-05 15:56:19</td>\n",
       "      <td>1445.0</td>\n",
       "      <td>2014-12-05 15:56:33</td>\n",
       "      <td>1445.0</td>\n",
       "      <td>2014-12-05 15:56:36</td>\n",
       "    </tr>\n",
       "    <tr>\n",
       "      <th>3</th>\n",
       "      <td>4</td>\n",
       "      <td>1023</td>\n",
       "      <td>2014-11-04 10:03:19</td>\n",
       "      <td>1022.0</td>\n",
       "      <td>2014-11-04 10:03:19</td>\n",
       "      <td>50.0</td>\n",
       "      <td>2014-11-04 10:03:20</td>\n",
       "      <td>222.0</td>\n",
       "      <td>2014-11-04 10:03:21</td>\n",
       "      <td>202.0</td>\n",
       "      <td>2014-11-04 10:03:21</td>\n",
       "      <td>3374.0</td>\n",
       "      <td>2014-11-04 10:03:22</td>\n",
       "      <td>50.0</td>\n",
       "      <td>2014-11-04 10:03:22</td>\n",
       "      <td>48.0</td>\n",
       "      <td>2014-11-04 10:03:22</td>\n",
       "      <td>48.0</td>\n",
       "      <td>2014-11-04 10:03:23</td>\n",
       "      <td>3374.0</td>\n",
       "      <td>2014-11-04 10:03:23</td>\n",
       "    </tr>\n",
       "    <tr>\n",
       "      <th>4</th>\n",
       "      <td>5</td>\n",
       "      <td>301</td>\n",
       "      <td>2014-05-16 15:05:31</td>\n",
       "      <td>301.0</td>\n",
       "      <td>2014-05-16 15:05:32</td>\n",
       "      <td>301.0</td>\n",
       "      <td>2014-05-16 15:05:33</td>\n",
       "      <td>66.0</td>\n",
       "      <td>2014-05-16 15:05:39</td>\n",
       "      <td>67.0</td>\n",
       "      <td>2014-05-16 15:05:40</td>\n",
       "      <td>69.0</td>\n",
       "      <td>2014-05-16 15:05:40</td>\n",
       "      <td>70.0</td>\n",
       "      <td>2014-05-16 15:05:40</td>\n",
       "      <td>68.0</td>\n",
       "      <td>2014-05-16 15:05:40</td>\n",
       "      <td>71.0</td>\n",
       "      <td>2014-05-16 15:05:40</td>\n",
       "      <td>167.0</td>\n",
       "      <td>2014-05-16 15:05:44</td>\n",
       "    </tr>\n",
       "  </tbody>\n",
       "</table>\n",
       "</div>"
      ],
      "text/plain": [
       "   session_id  site1               time1   site2               time2  site3  \\\n",
       "0           1     29 2014-10-04 11:19:53    35.0 2014-10-04 11:19:53   22.0   \n",
       "1           2    782 2014-07-03 11:00:28   782.0 2014-07-03 11:00:53  782.0   \n",
       "2           3     55 2014-12-05 15:55:12    55.0 2014-12-05 15:55:13   55.0   \n",
       "3           4   1023 2014-11-04 10:03:19  1022.0 2014-11-04 10:03:19   50.0   \n",
       "4           5    301 2014-05-16 15:05:31   301.0 2014-05-16 15:05:32  301.0   \n",
       "\n",
       "                time3  site4               time4  site5               time5  \\\n",
       "0 2014-10-04 11:19:54  321.0 2014-10-04 11:19:54   23.0 2014-10-04 11:19:54   \n",
       "1 2014-07-03 11:00:58  782.0 2014-07-03 11:01:06  782.0 2014-07-03 11:01:09   \n",
       "2 2014-12-05 15:55:14   55.0 2014-12-05 15:56:15   55.0 2014-12-05 15:56:16   \n",
       "3 2014-11-04 10:03:20  222.0 2014-11-04 10:03:21  202.0 2014-11-04 10:03:21   \n",
       "4 2014-05-16 15:05:33   66.0 2014-05-16 15:05:39   67.0 2014-05-16 15:05:40   \n",
       "\n",
       "    site6               time6   site7               time7  site8  \\\n",
       "0  2211.0 2014-10-04 11:19:54  6730.0 2014-10-04 11:19:54   21.0   \n",
       "1   782.0 2014-07-03 11:01:10   782.0 2014-07-03 11:01:23  782.0   \n",
       "2    55.0 2014-12-05 15:56:17    55.0 2014-12-05 15:56:18   55.0   \n",
       "3  3374.0 2014-11-04 10:03:22    50.0 2014-11-04 10:03:22   48.0   \n",
       "4    69.0 2014-05-16 15:05:40    70.0 2014-05-16 15:05:40   68.0   \n",
       "\n",
       "                time8    site9               time9   site10  \\\n",
       "0 2014-10-04 11:19:54  44582.0 2014-10-04 11:20:00  15336.0   \n",
       "1 2014-07-03 11:01:29    782.0 2014-07-03 11:01:30    782.0   \n",
       "2 2014-12-05 15:56:19   1445.0 2014-12-05 15:56:33   1445.0   \n",
       "3 2014-11-04 10:03:22     48.0 2014-11-04 10:03:23   3374.0   \n",
       "4 2014-05-16 15:05:40     71.0 2014-05-16 15:05:40    167.0   \n",
       "\n",
       "               time10  \n",
       "0 2014-10-04 11:20:00  \n",
       "1 2014-07-03 11:01:53  \n",
       "2 2014-12-05 15:56:36  \n",
       "3 2014-11-04 10:03:23  \n",
       "4 2014-05-16 15:05:44  "
      ]
     },
     "execution_count": 5,
     "metadata": {},
     "output_type": "execute_result"
    }
   ],
   "source": [
    "test_df = pd.read_csv(PATH/'test_sessions.csv', parse_dates=times, nrows=None)\n",
    "print(test_df.shape)\n",
    "test_df.head()"
   ]
  },
  {
   "cell_type": "code",
   "execution_count": 6,
   "metadata": {
    "_uuid": "3a6d702d069e0ebe5e0175d3faf307753b34b1b8"
   },
   "outputs": [
    {
     "name": "stdout",
     "output_type": "stream",
     "text": [
      "(48371,)\n"
     ]
    },
    {
     "data": {
      "text/plain": [
       "1    fpdownload2.macromedia.com\n",
       "2                    hotmail.fr\n",
       "3                login.live.com\n",
       "4                 mail.live.com\n",
       "5          dub122.mail.live.com\n",
       "dtype: object"
      ]
     },
     "execution_count": 6,
     "metadata": {},
     "output_type": "execute_result"
    }
   ],
   "source": [
    "sites_df = pd.read_pickle(PATH/'site_dic.pkl')\n",
    "sites_df = {int(v):k.strip() for k, v in sites_df.items()}\n",
    "sites_df = pd.Series(sites_df).sort_index()\n",
    "print(sites_df.shape)\n",
    "sites_df.head()"
   ]
  },
  {
   "cell_type": "code",
   "execution_count": 7,
   "metadata": {
    "_uuid": "0050994f19f4a5acd4655111f641254dbfa081f3"
   },
   "outputs": [],
   "source": [
    "train_df[sites] = train_df[sites].astype(np.float32)\n",
    "test_df[sites] = test_df[sites].astype(np.float32)"
   ]
  },
  {
   "cell_type": "code",
   "execution_count": 8,
   "metadata": {
    "_uuid": "ef08a65ad4bb3b0e58b1e2e93e8a4424757966ff"
   },
   "outputs": [
    {
     "data": {
      "text/plain": [
       "0    0.990941\n",
       "1    0.009059\n",
       "Name: target, dtype: float64"
      ]
     },
     "execution_count": 8,
     "metadata": {},
     "output_type": "execute_result"
    }
   ],
   "source": [
    "train_df['target'].value_counts(normalize=True)"
   ]
  },
  {
   "cell_type": "code",
   "execution_count": 9,
   "metadata": {
    "_uuid": "b3c0e1ae615b8445b79a19cd83dc825a93373535"
   },
   "outputs": [
    {
     "name": "stdout",
     "output_type": "stream",
     "text": [
      "CPU times: user 27 s, sys: 88 ms, total: 27.1 s\n",
      "Wall time: 27 s\n"
     ]
    }
   ],
   "source": [
    "%%time\n",
    "\n",
    "for df in [train_df, test_df]:\n",
    "    df['num_sites'] = df[sites].count(axis=1)\n",
    "    df['nunique_sites'] = df[sites].nunique(axis=1)"
   ]
  },
  {
   "cell_type": "code",
   "execution_count": 10,
   "metadata": {
    "_uuid": "1053cf06b66690eaffd97896ca67b69cd547c40e"
   },
   "outputs": [],
   "source": [
    "train_df[sites] = train_df[sites].fillna(0).astype(np.float32)\n",
    "test_df[sites] = test_df[sites].fillna(0).astype(np.float32)"
   ]
  },
  {
   "cell_type": "code",
   "execution_count": 11,
   "metadata": {
    "_uuid": "bca16506c6971d40bd7a10be7f0195e4e073b829"
   },
   "outputs": [
    {
     "data": {
      "image/png": "[encoded data removed]",
      "text/plain": [
       "<Figure size 1296x288 with 2 Axes>"
      ]
     },
     "metadata": {},
     "output_type": "display_data"
    }
   ],
   "source": [
    "_, ax = plt.subplots(1, 2, figsize=(18, 4))\n",
    "sns.countplot(train_df.loc[(train_df['target'] == 0) & (train_df['num_sites'] < 10), 'num_sites'], ax=ax[0])\n",
    "sns.countplot(train_df.loc[(train_df['target'] == 1) & (train_df['num_sites'] < 10), 'num_sites'], ax=ax[1])\n",
    "ax[0].set_title('Not-alice')\n",
    "ax[1].set_title('alice');"
   ]
  },
  {
   "cell_type": "code",
   "execution_count": 12,
   "metadata": {
    "_uuid": "69853df27411bcee09ee3e08b339574d2cf8032c"
   },
   "outputs": [
    {
     "data": {
      "image/png": "[encoded data removed]",
      "text/plain": [
       "<Figure size 1296x288 with 2 Axes>"
      ]
     },
     "metadata": {},
     "output_type": "display_data"
    }
   ],
   "source": [
    "_, ax = plt.subplots(1, 2, figsize=(18, 4))\n",
    "sns.countplot(train_df.loc[train_df['target'] == 0, 'nunique_sites'], ax=ax[0])\n",
    "sns.countplot(train_df.loc[train_df['target'] == 1, 'nunique_sites'], ax=ax[1])\n",
    "ax[0].set_title('Not-alice')\n",
    "ax[1].set_title('alice');"
   ]
  },
  {
   "cell_type": "code",
   "execution_count": 13,
   "metadata": {
    "_uuid": "83c8acc3e2b74ccb7d95ce020e65a78ed06bdd79"
   },
   "outputs": [
    {
     "data": {
      "text/plain": [
       "0    77.0\n",
       "1    80.0\n",
       "2    76.0\n",
       "3    29.0\n",
       "4    21.0\n",
       "dtype: float64"
      ]
     },
     "execution_count": 13,
     "metadata": {},
     "output_type": "execute_result"
    }
   ],
   "source": [
    "top_alice_sites = pd.Series(train_df.loc[train_df['target'] == 1, sites].values.flatten()).value_counts(ascending=False)\n",
    "top_alice_sites = pd.Series(top_alice_sites.index.values, index=top_alice_sites).head(20).reset_index(drop=True)\n",
    "top_alice_sites.head()"
   ]
  },
  {
   "cell_type": "code",
   "execution_count": 14,
   "metadata": {
    "_uuid": "818d3fb057833b311a96c8a50dedc3edb887b8ea"
   },
   "outputs": [
    {
     "name": "stdout",
     "output_type": "stream",
     "text": [
      "CPU times: user 15.7 s, sys: 20 ms, total: 15.7 s\n",
      "Wall time: 15.7 s\n"
     ]
    }
   ],
   "source": [
    "%%time\n",
    "\n",
    "train_df['num_alice_sites'] = train_df[sites].apply(\n",
    "    lambda sites: sum([c for site, c in Counter(sites.values).items() if site in top_alice_sites.values]), axis=1)\n",
    "train_df['avg_alice_sites'] = train_df['num_alice_sites'] / train_df['num_sites']\n",
    "\n",
    "test_df['num_alice_sites'] = test_df[sites].apply(\n",
    "    lambda sites: sum([c for site, c in Counter(sites.values).items() if site in top_alice_sites.values]), axis=1)\n",
    "test_df['avg_alice_sites'] = test_df['num_alice_sites'] / test_df['num_sites']"
   ]
  },
  {
   "cell_type": "code",
   "execution_count": 15,
   "metadata": {
    "_uuid": "88fbf54bae343f5c6ff7ee8d1a34af7e8d7d236a"
   },
   "outputs": [
    {
     "data": {
      "image/png": "[encoded data removed]",
      "text/plain": [
       "<Figure size 1296x288 with 2 Axes>"
      ]
     },
     "metadata": {},
     "output_type": "display_data"
    }
   ],
   "source": [
    "_, ax = plt.subplots(1, 2, figsize=(18, 4))\n",
    "train_df.loc[train_df['target'] == 0, 'num_alice_sites'].hist(ax=ax[0])\n",
    "train_df.loc[train_df['target'] == 1, 'num_alice_sites'].hist(ax=ax[1])\n",
    "ax[0].set_title('Not-alice')\n",
    "ax[1].set_title('alice');"
   ]
  },
  {
   "cell_type": "code",
   "execution_count": 16,
   "metadata": {
    "_uuid": "8a22463389eb29f1a88f67b3948ed197ca0cd100"
   },
   "outputs": [
    {
     "name": "stdout",
     "output_type": "stream",
     "text": [
      "CPU times: user 40.4 s, sys: 88 ms, total: 40.5 s\n",
      "Wall time: 40.4 s\n"
     ]
    }
   ],
   "source": [
    "%%time\n",
    "\n",
    "train_df['site_len'] = train_df[sites].apply(\n",
    "    lambda sites: np.mean([len(sites_df[site]) for site in set(sites.values) if site > 0]), axis=1)\n",
    "test_df['site_len'] = test_df[sites].apply(\n",
    "    lambda sites: np.mean([len(sites_df[site]) for site in set(sites.values) if site > 0]), axis=1)"
   ]
  },
  {
   "cell_type": "code",
   "execution_count": 17,
   "metadata": {
    "_uuid": "f05f3b8a83406589c976b930e1b9d146ee6562c6"
   },
   "outputs": [
    {
     "data": {
      "image/png": "[encoded data removed]",
      "text/plain": [
       "<Figure size 1296x288 with 2 Axes>"
      ]
     },
     "metadata": {},
     "output_type": "display_data"
    }
   ],
   "source": [
    "_, ax = plt.subplots(1, 2, figsize=(18, 4))\n",
    "train_df.loc[train_df['target'] == 0, 'site_len'].hist(ax=ax[0])\n",
    "train_df.loc[train_df['target'] == 1, 'site_len'].hist(ax=ax[1])\n",
    "ax[0].set_title('Not-alice')\n",
    "ax[1].set_title('alice');"
   ]
  },
  {
   "cell_type": "code",
   "execution_count": 18,
   "metadata": {
    "_uuid": "6b708c131325799f299b883532348fc276631d90"
   },
   "outputs": [],
   "source": [
    "# Time\n",
    "for df in [train_df, test_df]:\n",
    "    df['duration'] = (df[times].max(axis=1) - df[times].min(axis=1)).dt.seconds\n",
    "    df['avg_duration'] = df['duration'] / df['nunique_sites']\n",
    "    df['start_hour'] = np.ceil(df['time1'].dt.hour + (df['time1'].dt.minute / 60)).astype(np.int32)\n",
    "    df.loc[df['start_hour'] == 24, 'start_hour'] = 0\n",
    "    df['start_month'] = df['time1'].dt.month\n",
    "    df['start_year'] = df['time1'].dt.year\n",
    "    df['start_weekday'] = df['time1'].dt.dayofweek\n",
    "    df['start_weekend'] = (df['start_weekday'] > 4).astype(np.int32)\n",
    "    df['start_daytime'] = pd.cut(df['start_hour'], bins=[-1, 6, 11, 18, 23], labels=[0, 1, 2, 3]).astype(np.int32)"
   ]
  },
  {
   "cell_type": "code",
   "execution_count": 19,
   "metadata": {
    "_uuid": "7ab729b3749cb3bc134269961a19d8b45a43f27d"
   },
   "outputs": [
    {
     "data": {
      "image/png": "[encoded data removed]",
      "text/plain": [
       "<Figure size 1296x288 with 2 Axes>"
      ]
     },
     "metadata": {},
     "output_type": "display_data"
    }
   ],
   "source": [
    "_, ax = plt.subplots(1, 2, figsize=(18, 4))\n",
    "train_df.loc[train_df['target'] == 0, 'start_daytime'].hist(ax=ax[0])\n",
    "train_df.loc[train_df['target'] == 1, 'start_daytime'].hist(ax=ax[1])\n",
    "ax[0].set_title('Not-alice')\n",
    "ax[1].set_title('alice');"
   ]
  },
  {
   "cell_type": "code",
   "execution_count": 20,
   "metadata": {
    "_uuid": "a9b1017691bb977b9be372bb43ca3f6a95eea5b8"
   },
   "outputs": [
    {
     "data": {
      "image/png": "[encoded data removed]",
      "text/plain": [
       "<Figure size 1296x288 with 2 Axes>"
      ]
     },
     "metadata": {},
     "output_type": "display_data"
    }
   ],
   "source": [
    "_, ax = plt.subplots(1, 2, figsize=(18, 4))\n",
    "sns.boxplot(x='target', y='duration', data=train_df, ax=ax[0], showfliers=False)\n",
    "sns.violinplot(x='target', y='duration', data=train_df, ax=ax[1], showfliers=False)\n",
    "ax[0].set_title('Not-alice')\n",
    "ax[1].set_title('alice')\n",
    "ax[0].set_ylim(-10, 300), ax[1].set_ylim(-200, 2000);"
   ]
  },
  {
   "cell_type": "code",
   "execution_count": 21,
   "metadata": {
    "_uuid": "b40a86dc605d11ef22db46130e31712da19aa9f4"
   },
   "outputs": [],
   "source": [
    "for df in [train_df, test_df]:\n",
    "    df['sites'] = df[sites].astype(np.str).apply(' '.join, axis=1)"
   ]
  },
  {
   "cell_type": "code",
   "execution_count": 22,
   "metadata": {
    "_uuid": "9ee0f3783155f4552c91193c57569d614881651d"
   },
   "outputs": [],
   "source": [
    "# Uniform distribution\n",
    "def uniform_distribute(df, target_col='target'):\n",
    "    df['rounded_target'] = df[target_col].round(0)\n",
    "    df = df.sort_values('rounded_target').reset_index(drop=True)\n",
    "    vc = df['rounded_target'].value_counts()\n",
    "    vc = dict(sorted(vc.items()))\n",
    "    df2 = pd.DataFrame()\n",
    "    df['indexcol'], i = 0, 1\n",
    "\n",
    "    for k, v in vc.items():\n",
    "        step = df.shape[0] / v\n",
    "        indent = df.shape[0] / (v + 1)\n",
    "        df3 = df[df['rounded_target'] == k].sample(v, random_state=120).reset_index(drop=True)\n",
    "        for j in range(0, v):\n",
    "            df3.at[j, 'indexcol'] = indent + j * step + 0.000001 * i\n",
    "        df2 = pd.concat([df3, df2])\n",
    "        i += 1\n",
    "\n",
    "    df = df2.sort_values('indexcol', ascending=True).reset_index(drop=True)\n",
    "    del df['indexcol'], df['rounded_target']\n",
    "    gc.collect()\n",
    "    return df"
   ]
  },
  {
   "cell_type": "code",
   "execution_count": 23,
   "metadata": {
    "_uuid": "b90a3fb4c3510d30245152b1f837a2c6dbfd6d3a"
   },
   "outputs": [],
   "source": [
    "train_df.to_csv('train.csv', header=True, index=False)\n",
    "test_df.to_csv('test.csv', header=True, index=False)\n",
    "\n",
    "train_df = pd.read_csv('train.csv')\n",
    "test_df = pd.read_csv('test.csv')\n",
    "\n",
    "train_df = uniform_distribute(train_df, 'target')"
   ]
  },
  {
   "cell_type": "code",
   "execution_count": 24,
   "metadata": {
    "_uuid": "4a82fb981b529e1e537d26597334d51079fd3d7f"
   },
   "outputs": [],
   "source": [
    "vectorizer = TfidfVectorizer(max_features=50000, ngram_range=(1, 7))\n",
    "train_sites = vectorizer.fit_transform(train_df['sites'])\n",
    "test_sites = vectorizer.transform(test_df['sites'])"
   ]
  },
  {
   "cell_type": "markdown",
   "metadata": {
    "_uuid": "8ddd3678579b614a57c40826b59b9f619a282fc8"
   },
   "source": [
    "### Model"
   ]
  },
  {
   "cell_type": "code",
   "execution_count": 25,
   "metadata": {
    "_uuid": "3e7cb3dc09176788b43e77fa26e9e9c32f758f02"
   },
   "outputs": [],
   "source": [
    "# reduce memory\n",
    "def reduce_mem_usage(df, verbose=True):\n",
    "    start_mem = df.memory_usage().sum() / 1024**2\n",
    "    numerics = ['int16', 'int32', 'int64', 'float16', 'float32', 'float64']\n",
    "\n",
    "    for col in df.columns:\n",
    "        col_type = df[col].dtypes\n",
    "        if col_type in numerics:\n",
    "            c_min = df[col].min()\n",
    "            c_max = df[col].max()\n",
    "            if str(col_type)[:3] == 'int':\n",
    "                if c_min > np.iinfo(np.int8).min and c_max < np.iinfo(np.int8).max:\n",
    "                    df[col] = df[col].astype(np.int8)\n",
    "                elif c_min > np.iinfo(np.int16).min and c_max < np.iinfo(np.int16).max:\n",
    "                    df[col] = df[col].astype(np.int16)\n",
    "                elif c_min > np.iinfo(np.int32).min and c_max < np.iinfo(np.int32).max:\n",
    "                    df[col] = df[col].astype(np.int32)\n",
    "                elif c_min > np.iinfo(np.int64).min and c_max < np.iinfo(np.int64).max:\n",
    "                    df[col] = df[col].astype(np.int64)\n",
    "            else:\n",
    "                if c_min > np.finfo(np.float16).min and c_max < np.finfo(np.float16).max:\n",
    "                    df[col] = df[col].astype(np.float16)\n",
    "                elif c_min > np.finfo(np.float32).min and c_max < np.finfo(np.float32).max:\n",
    "                    df[col] = df[col].astype(np.float32)\n",
    "                else:\n",
    "                    df[col] = df[col].astype(np.float64)\n",
    "\n",
    "    end_mem = df.memory_usage().sum() / 1024**2\n",
    "    print('Memory usage after optimization is: {:.2f} MB'.format(end_mem))\n",
    "    print('Decreased by {:.1f}%'.format(\n",
    "        100 * (start_mem - end_mem) / start_mem))\n",
    "    return df"
   ]
  },
  {
   "cell_type": "code",
   "execution_count": 26,
   "metadata": {
    "_uuid": "e26e6690ccb0d4cfe564b9dcec8c792bc599905a"
   },
   "outputs": [],
   "source": [
    "# ['num_sites', 'nunique_sites']"
   ]
  },
  {
   "cell_type": "code",
   "execution_count": 27,
   "metadata": {
    "_uuid": "188a08bcfc352c5eee49626c1a4a73e618569195"
   },
   "outputs": [],
   "source": [
    "y_train = train_df.pop('target')\n",
    "test_ids = test_df['session_id'].values\n",
    "drop_cols = sites + times + ['sites', 'session_id']\n",
    "\n",
    "train_df.drop(drop_cols, axis=1, inplace=True)\n",
    "test_df.drop(drop_cols, axis=1, inplace=True)"
   ]
  },
  {
   "cell_type": "code",
   "execution_count": 28,
   "metadata": {
    "_uuid": "6b7b262e7fdb7f870ad140ffd5a7fcca0f04becd"
   },
   "outputs": [
    {
     "name": "stdout",
     "output_type": "stream",
     "text": [
      "Memory usage after optimization is: 17.89 MB\n",
      "Decreased by 28.8%\n",
      "Memory usage after optimization is: 5.84 MB\n",
      "Decreased by 28.8%\n"
     ]
    },
    {
     "data": {
      "text/plain": [
       "((253561, 61), (82797, 61))"
      ]
     },
     "execution_count": 28,
     "metadata": {},
     "output_type": "execute_result"
    }
   ],
   "source": [
    "# One hot\n",
    "cols_to_onehot = ['start_weekday', 'start_month', 'start_daytime', 'start_hour', 'start_weekend', 'start_year', 'num_sites', 'nunique_sites']\n",
    "full_df = pd.concat([train_df, test_df])\n",
    "full_df = pd.get_dummies(full_df, columns = cols_to_onehot, drop_first=True)\n",
    "train_df, test_df = full_df.iloc[:train_df.shape[0]], full_df.iloc[train_df.shape[0]:]\n",
    "del full_df\n",
    "gc.collect()\n",
    "\n",
    "# Standard scale\n",
    "cols_to_scale = ['duration', 'avg_duration', 'site_len', 'num_alice_sites', 'avg_alice_sites']\n",
    "scaler = StandardScaler()\n",
    "train_df[cols_to_scale] = scaler.fit_transform(train_df[cols_to_scale])\n",
    "test_df[cols_to_scale] = scaler.transform(test_df[cols_to_scale])\n",
    "\n",
    "train_df = reduce_mem_usage(train_df)\n",
    "test_df = reduce_mem_usage(test_df)\n",
    "\n",
    "train_df.shape, test_df.shape"
   ]
  },
  {
   "cell_type": "code",
   "execution_count": 29,
   "metadata": {
    "_uuid": "ef15141618b3f3cfb2c2e39fc6da2be413d81ba7"
   },
   "outputs": [],
   "source": [
    "X_train = csr_matrix(hstack([train_df, train_sites]))\n",
    "X_test = csr_matrix(hstack([test_df, test_sites]))"
   ]
  },
  {
   "cell_type": "code",
   "execution_count": 30,
   "metadata": {
    "_uuid": "bb9985c24db1504bf4e9743b9ced248bcb1ac41e"
   },
   "outputs": [],
   "source": [
    "def create_submission(preds, num=0):\n",
    "    submission = pd.DataFrame({'session_id': test_ids, 'target': test_preds})\n",
    "    submission.to_csv(f'submission_{num}.csv', header=True, index=False)"
   ]
  },
  {
   "cell_type": "code",
   "execution_count": 31,
   "metadata": {
    "_uuid": "eaf69a15d7fd324cefd6ebbc735eba8882ae8127"
   },
   "outputs": [],
   "source": [
    "# time_split_cv = TimeSeriesSplit(10)\n",
    "# skfold_split_cv = StratifiedKFold(10)\n",
    "kfold_split_cv = KFold(10)"
   ]
  },
  {
   "cell_type": "code",
   "execution_count": 32,
   "metadata": {
    "_uuid": "51d86bf6461d92a4938cc2d06903e16c09fa2fbb",
    "code_folding": []
   },
   "outputs": [
    {
     "name": "stdout",
     "output_type": "stream",
     "text": [
      "Fitting 2 folds for each of 20 candidates, totalling 40 fits\n"
     ]
    },
    {
     "name": "stderr",
     "output_type": "stream",
     "text": [
      "[Parallel(n_jobs=-1)]: Using backend LokyBackend with 4 concurrent workers.\n",
      "[Parallel(n_jobs=-1)]: Done  40 out of  40 | elapsed:  3.3min finished\n"
     ]
    }
   ],
   "source": [
    "params = {\n",
    "    'C': np.logspace(-2, 2, 10),\n",
    "    'class_weight': [None, 'balanced']\n",
    "}\n",
    "\n",
    "grid = GridSearchCV(estimator=LogisticRegression(random_state=7, solver='sag'), param_grid=params, scoring='roc_auc', cv=2, verbose=1, n_jobs=-1)\n",
    "grid.fit(X_train, y_train);"
   ]
  },
  {
   "cell_type": "code",
   "execution_count": 33,
   "metadata": {
    "_uuid": "551fc4b2c984de10edde28d009f3ba7d943b6e27"
   },
   "outputs": [
    {
     "data": {
      "text/plain": [
       "(0.9864256644481574, {'C': 4.6415888336127775, 'class_weight': 'balanced'})"
      ]
     },
     "execution_count": 33,
     "metadata": {},
     "output_type": "execute_result"
    }
   ],
   "source": [
    "model = grid.best_estimator_\n",
    "grid.best_score_, grid.best_params_"
   ]
  },
  {
   "cell_type": "code",
   "execution_count": 34,
   "metadata": {
    "_uuid": "552dca203185b9317485c8381168f5762ed7aba3"
   },
   "outputs": [],
   "source": [
    "# time_cv_scores = cross_val_score(model, X_train, y_train, scoring='roc_auc', cv=time_split_cv , n_jobs=-1, verbose=1)\n",
    "# time_cv_scores.mean(), time_cv_scores.std(), time_cv_scores"
   ]
  },
  {
   "cell_type": "code",
   "execution_count": 35,
   "metadata": {
    "_uuid": "699b6e0450468c531124aeee6426ea62a9a38643"
   },
   "outputs": [],
   "source": [
    "# skfold_cv_scores = cross_val_score(model, X_train, y_train, scoring='roc_auc', cv=skfold_split_cv , n_jobs=-1, verbose=1)\n",
    "# skfold_cv_scores.mean(), skfold_cv_scores.std(), skfold_cv_scores"
   ]
  },
  {
   "cell_type": "code",
   "execution_count": 36,
   "metadata": {
    "_uuid": "fa1b8079e47ff56329c9eaeabe5eed26910dd3ab"
   },
   "outputs": [
    {
     "name": "stderr",
     "output_type": "stream",
     "text": [
      "[Parallel(n_jobs=-1)]: Using backend LokyBackend with 4 concurrent workers.\n",
      "[Parallel(n_jobs=-1)]: Done  10 out of  10 | elapsed:  1.6min finished\n"
     ]
    },
    {
     "data": {
      "text/plain": [
       "(0.9890518973142163,\n",
       " 0.0027068338549742785,\n",
       " array([0.99228961, 0.99174301, 0.98971254, 0.9884628 , 0.98958034,\n",
       "        0.98940107, 0.98870454, 0.98171044, 0.98953985, 0.98937477]))"
      ]
     },
     "execution_count": 36,
     "metadata": {},
     "output_type": "execute_result"
    }
   ],
   "source": [
    "kfold_cv_scores = cross_val_score(model, X_train, y_train, scoring='roc_auc', cv=kfold_split_cv , n_jobs=-1, verbose=1)\n",
    "kfold_cv_scores.mean(), kfold_cv_scores.std(), kfold_cv_scores"
   ]
  },
  {
   "cell_type": "code",
   "execution_count": 37,
   "metadata": {
    "_uuid": "bd0cc979fa589e398e530b2b553019abed766325"
   },
   "outputs": [],
   "source": [
    "test_preds = grid.predict_proba(X_test)[:, 1]\n",
    "create_submission(test_preds, 1)"
   ]
  },
  {
   "cell_type": "code",
   "execution_count": 38,
   "metadata": {
    "_uuid": "dd4286b0ee6721cd2c4956fc75e7e1b024b3cdf9"
   },
   "outputs": [],
   "source": []
  }
 ],
 "metadata": {
  "kernelspec": {
   "display_name": "Python 3",
   "language": "python",
   "name": "python3"
  },
  "language_info": {
   "codemirror_mode": {
    "name": "ipython",
    "version": 3
   },
   "file_extension": ".py",
   "mimetype": "text/x-python",
   "name": "python",
   "nbconvert_exporter": "python",
   "pygments_lexer": "ipython3",
   "version": "3.7.2"
  },
  "varInspector": {
   "cols": {
    "lenName": 16,
    "lenType": 16,
    "lenVar": 40
   },
   "kernels_config": {
    "python": {
     "delete_cmd_postfix": "",
     "delete_cmd_prefix": "del ",
     "library": "var_list.py",
     "varRefreshCmd": "print(var_dic_list())"
    },
    "r": {
     "delete_cmd_postfix": ") ",
     "delete_cmd_prefix": "rm(",
     "library": "var_list.r",
     "varRefreshCmd": "cat(var_dic_list()) "
    }
   },
   "types_to_exclude": [
    "module",
    "function",
    "builtin_function_or_method",
    "instance",
    "_Feature"
   ],
   "window_display": false
  }
 },
 "nbformat": 4,
 "nbformat_minor": 1
}
